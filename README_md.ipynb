{
  "nbformat": 4,
  "nbformat_minor": 0,
  "metadata": {
    "colab": {
      "provenance": [],
      "authorship_tag": "ABX9TyNgMXcBhh9ntwnpwQvxRL9g",
      "include_colab_link": true
    },
    "kernelspec": {
      "name": "python3",
      "display_name": "Python 3"
    },
    "language_info": {
      "name": "python"
    }
  },
  "cells": [
    {
      "cell_type": "markdown",
      "metadata": {
        "id": "view-in-github",
        "colab_type": "text"
      },
      "source": [
        "<a href=\"https://colab.research.google.com/github/Arnaldo-Algave/Arnaldo-Algave/blob/main/README_md.ipynb\" target=\"_parent\"><img src=\"https://colab.research.google.com/assets/colab-badge.svg\" alt=\"Open In Colab\"/></a>"
      ]
    },
    {
      "cell_type": "code",
      "execution_count": null,
      "metadata": {
        "id": "MKhe5hNzRauY"
      },
      "outputs": [],
      "source": [
        "def calcular_imc(peso, altura):\n",
        "    imc = peso / (altura * altura)\n",
        "    return imc\n",
        "nome = input(\"Digite seu nome: \")  # nome do usúario\n",
        "print(nome)\n",
        "idade = int(input(\"Digite sua idade: \"))\n",
        "print(idade)\n",
        "altura = float(input(\"Digite sua altura: \"))\n",
        "print(altura)\n",
        "peso = float(input(\"Digite seu peso: \"))\n",
        "print(peso)\n",
        "imc = peso / (altura * altura)\n",
        "print(\"Seu IMC é: \", imc)\n",
        "\n",
        "# módulo principal\n",
        "main = calcular_imc(peso, altura)\n",
        "print(main)\n",
        "\n",
        "\n"
      ]
    },
    {
      "cell_type": "markdown",
      "source": [
        "## Meu Primeiro Projeto\n",
        "\n",
        "\n",
        "**Criei um código para descobrir o IMC do usúario, para isso utilizei a função \"def\", ela é usada para definir funções, permitindo que você encapsule um bloco de código que pode ser chamado em diferentes partes do programa.**\n",
        "\n",
        "**variavéis utlizadas: nome, idade, peso, altura e imc**\n",
        "**funções: input, print, int e float**\n",
        "**operadores: / e ***"
      ],
      "metadata": {
        "id": "SSifuya45gve"
      }
    }
  ]
}